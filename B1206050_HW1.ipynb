{
  "nbformat": 4,
  "nbformat_minor": 0,
  "metadata": {
    "colab": {
      "provenance": []
    },
    "kernelspec": {
      "name": "python3",
      "display_name": "Python 3"
    },
    "language_info": {
      "name": "python"
    }
  },
  "cells": [
    {
      "cell_type": "code",
      "execution_count": 2,
      "metadata": {
        "colab": {
          "base_uri": "https://localhost:8080/"
        },
        "id": "U54lrKgCG7Ys",
        "outputId": "934128c5-4b02-4e0f-e8a0-0133a27d58e6"
      },
      "outputs": [
        {
          "output_type": "stream",
          "name": "stdout",
          "text": [
            "I'm a student\n"
          ]
        }
      ],
      "source": [
        "print(\"I'm a student\")"
      ]
    },
    {
      "cell_type": "code",
      "source": [
        "a = int(input('''輸入座標A(x1,y1):\n",
        "x1='''))\n",
        "b = int(input('''輸入座標A(x1,y1):\n",
        "y1='''))\n",
        "c = int(input('''輸入座標B(x2,y2):\n",
        "x2='''))\n",
        "d = int(input('''輸入座標B(x2,y2):\n",
        "y2='''))\n",
        "z=((a-c)**2+(b-d)**2)**0.5\n",
        "print(\"兩座標之間的距離:\",z)"
      ],
      "metadata": {
        "colab": {
          "base_uri": "https://localhost:8080/"
        },
        "id": "i3EjA_oAHbFv",
        "outputId": "4aae1cea-e2d7-4c9d-d4f7-d2dcd5a76bf2"
      },
      "execution_count": 4,
      "outputs": [
        {
          "output_type": "stream",
          "name": "stdout",
          "text": [
            "輸入座標A(x1,y1):\n",
            "x1=9\n",
            "輸入座標A(x1,y1):\n",
            "y1=8\n",
            "輸入座標B(x2,y2):\n",
            "x2=6\n",
            "輸入座標B(x2,y2):\n",
            "y2=4\n",
            "兩座標之間的距離: 5.0\n"
          ]
        }
      ]
    },
    {
      "cell_type": "code",
      "source": [
        "a =int(input('''身高(cm):\n",
        "'''))\n",
        "b =int(input('''體重(KG):\n",
        "'''))\n",
        "b/=((a/100)**2)\n",
        "print('你的BMI:',b)"
      ],
      "metadata": {
        "colab": {
          "base_uri": "https://localhost:8080/"
        },
        "id": "SACEEKy0IJOh",
        "outputId": "c6f5acee-a89d-43ba-ae1c-573ff08f6fe1"
      },
      "execution_count": 5,
      "outputs": [
        {
          "output_type": "stream",
          "name": "stdout",
          "text": [
            "身高(cm):\n",
            "178\n",
            "體重(KG):\n",
            "67\n",
            "你的BMI: 21.146319909102385\n"
          ]
        }
      ]
    }
  ]
}