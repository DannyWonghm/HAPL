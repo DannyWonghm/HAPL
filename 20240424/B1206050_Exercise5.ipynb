{
  "nbformat": 4,
  "nbformat_minor": 0,
  "metadata": {
    "colab": {
      "provenance": []
    },
    "kernelspec": {
      "name": "python3",
      "display_name": "Python 3"
    },
    "language_info": {
      "name": "python"
    }
  },
  "cells": [
    {
      "cell_type": "code",
      "source": [
        "a = 1\n",
        "\n",
        "while a <= 9:\n",
        "    b = 1\n",
        "    while b <= 9:\n",
        "      product = a * b\n",
        "      print(f\"{b} x {a} = {product}\", end=\"\\t\")\n",
        "      b += 1\n",
        "    print(' ')\n",
        "    a += 1"
      ],
      "metadata": {
        "colab": {
          "base_uri": "https://localhost:8080/"
        },
        "id": "uMeH41qi6Odr",
        "outputId": "5ec06388-2ee6-4b57-c2dd-bd5a48dae8ac"
      },
      "execution_count": null,
      "outputs": [
        {
          "output_type": "stream",
          "name": "stdout",
          "text": [
            "1 x 1 = 1\t2 x 1 = 2\t3 x 1 = 3\t4 x 1 = 4\t5 x 1 = 5\t6 x 1 = 6\t7 x 1 = 7\t8 x 1 = 8\t9 x 1 = 9\t \n",
            "1 x 2 = 2\t2 x 2 = 4\t3 x 2 = 6\t4 x 2 = 8\t5 x 2 = 10\t6 x 2 = 12\t7 x 2 = 14\t8 x 2 = 16\t9 x 2 = 18\t \n",
            "1 x 3 = 3\t2 x 3 = 6\t3 x 3 = 9\t4 x 3 = 12\t5 x 3 = 15\t6 x 3 = 18\t7 x 3 = 21\t8 x 3 = 24\t9 x 3 = 27\t \n",
            "1 x 4 = 4\t2 x 4 = 8\t3 x 4 = 12\t4 x 4 = 16\t5 x 4 = 20\t6 x 4 = 24\t7 x 4 = 28\t8 x 4 = 32\t9 x 4 = 36\t \n",
            "1 x 5 = 5\t2 x 5 = 10\t3 x 5 = 15\t4 x 5 = 20\t5 x 5 = 25\t6 x 5 = 30\t7 x 5 = 35\t8 x 5 = 40\t9 x 5 = 45\t \n",
            "1 x 6 = 6\t2 x 6 = 12\t3 x 6 = 18\t4 x 6 = 24\t5 x 6 = 30\t6 x 6 = 36\t7 x 6 = 42\t8 x 6 = 48\t9 x 6 = 54\t \n",
            "1 x 7 = 7\t2 x 7 = 14\t3 x 7 = 21\t4 x 7 = 28\t5 x 7 = 35\t6 x 7 = 42\t7 x 7 = 49\t8 x 7 = 56\t9 x 7 = 63\t \n",
            "1 x 8 = 8\t2 x 8 = 16\t3 x 8 = 24\t4 x 8 = 32\t5 x 8 = 40\t6 x 8 = 48\t7 x 8 = 56\t8 x 8 = 64\t9 x 8 = 72\t \n",
            "1 x 9 = 9\t2 x 9 = 18\t3 x 9 = 27\t4 x 9 = 36\t5 x 9 = 45\t6 x 9 = 54\t7 x 9 = 63\t8 x 9 = 72\t9 x 9 = 81\t \n"
          ]
        }
      ]
    },
    {
      "cell_type": "code",
      "source": [
        "import random\n",
        "answer=random.sample(range(1,10),4)\n",
        "print('答案：',answer)\n",
        "a=b=n=0\n",
        "num=0\n",
        "user=list(input('請輸入四個不重複的數字：'))\n",
        "if len(user)!=4:\n",
        " (print('輸⼊不足或超過四個數字'))\n",
        "a = 0\n",
        "num = 0\n",
        "while a != 4:\n",
        "  num += 1\n",
        "  a=b=n=0\n",
        "  user = list(input('請輸入四個不重複的數字：'))\n",
        "\n",
        "  for i in user:\n",
        "    if int(user[n])==answer[n]:\n",
        "      a+=1\n",
        "    else:\n",
        "      if int(i) in answer:\n",
        "        b+=1\n",
        "    n+=1\n",
        "  output =','.join(user).replace(',','')\n",
        "  print(f'{output}:{a}A{b}B')\n",
        "print(f'你用了{num}次，終於答對了')"
      ],
      "metadata": {
        "colab": {
          "base_uri": "https://localhost:8080/"
        },
        "id": "7yqE8TsYr0em",
        "outputId": "6f62158e-4251-439a-9d76-7aef9dfedc3b"
      },
      "execution_count": 10,
      "outputs": [
        {
          "output_type": "stream",
          "name": "stdout",
          "text": [
            "答案： [7, 6, 5, 4]\n",
            "請輸入四個不重複的數字：12345\n",
            "輸⼊不足或超過四個數字\n",
            "請輸入四個不重複的數字：5678\n",
            "5678:1A2B\n",
            "請輸入四個不重複的數字：9876\n",
            "9876:0A2B\n",
            "請輸入四個不重複的數字：1230\n",
            "1230:0A0B\n",
            "請輸入四個不重複的數字：7654\n",
            "7654:4A0B\n",
            "你用了4次，終於答對了\n"
          ]
        }
      ]
    }
  ]
}