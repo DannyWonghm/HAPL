{
  "nbformat": 4,
  "nbformat_minor": 0,
  "metadata": {
    "colab": {
      "provenance": []
    },
    "kernelspec": {
      "name": "python3",
      "display_name": "Python 3"
    },
    "language_info": {
      "name": "python"
    }
  },
  "cells": [
    {
      "cell_type": "code",
      "execution_count": null,
      "metadata": {
        "colab": {
          "base_uri": "https://localhost:8080/"
        },
        "id": "K3mN3dw2zOiq",
        "outputId": "65fbf5e1-d2f7-44bd-fc29-fb1c4d0b6602"
      },
      "outputs": [
        {
          "output_type": "stream",
          "name": "stdout",
          "text": [
            "身高(cm):\n",
            "178\n",
            "體重(KG):\n",
            "64\n",
            "你的BMI: 20.199469763918696\n",
            "體位:適中\n"
          ]
        }
      ],
      "source": [
        "a =int(input('''身高(cm):\n",
        "'''))\n",
        "b =int(input('''體重(KG):\n",
        "'''))\n",
        "b/=((a/100)**2)\n",
        "print('你的BMI:',b)\n",
        "if b < 18.5:\n",
        "  print('體位:過輕')\n",
        "elif 18.5 <= b < 24:\n",
        "  print('體位:適中')\n",
        "elif 24 <= b:\n",
        "  print('體位:過重')\n",
        "elif b >= 27:\n",
        "  print('體位:肥胖')"
      ]
    },
    {
      "cell_type": "code",
      "source": [
        "a = int(input('''輸⼊第⼀個數字:\n",
        "'''))\n",
        "b = (input('''輸⼊⼀個運算符號(+, -, *, /):\n",
        "'''))\n",
        "c = int(input('''輸⼊第⼀二個數字:\n",
        "'''))\n",
        "if b == '+':\n",
        "   d = a+c\n",
        "   print(d)\n",
        "elif b == '-':\n",
        "   e = a-c\n",
        "   print(e)\n",
        "elif b == '*':\n",
        "   f = a*c\n",
        "   print(f)\n",
        "elif b == '/':\n",
        "   g = a/c\n",
        "   print(g)"
      ],
      "metadata": {
        "colab": {
          "base_uri": "https://localhost:8080/"
        },
        "id": "P5hzK9Y535GD",
        "outputId": "3b368734-5989-4b2f-deb6-13d2f19ec548"
      },
      "execution_count": null,
      "outputs": [
        {
          "output_type": "stream",
          "name": "stdout",
          "text": [
            "輸⼊第⼀個數字:\n",
            "9\n",
            "輸⼊⼀個運算符號(+, -, *, /):\n",
            "*\n",
            "輸⼊第⼀二個數字:\n",
            "5\n",
            "45\n"
          ]
        }
      ]
    }
  ]
}