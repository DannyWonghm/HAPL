{
  "nbformat": 4,
  "nbformat_minor": 0,
  "metadata": {
    "colab": {
      "provenance": []
    },
    "kernelspec": {
      "name": "python3",
      "display_name": "Python 3"
    },
    "language_info": {
      "name": "python"
    }
  },
  "cells": [
    {
      "cell_type": "code",
      "source": [
        "a = int(input('''輸⼊年份:\n",
        "'''))\n",
        "if a<=1582:\n",
        "  if a%4==0:\n",
        "    print(a,\"是閏年\")\n",
        "  else:\n",
        "    print(a,\"是平年\")\n",
        "if a>1582:\n",
        "  if(a%4==0 and a%100!=0) or a%400==0:\n",
        "    print(a,\"是閏年\")\n",
        "  else:\n",
        "    print(a,\"是平年\")"
      ],
      "metadata": {
        "colab": {
          "base_uri": "https://localhost:8080/"
        },
        "id": "1i3wfblqBNDr",
        "outputId": "35830ee4-dbae-414d-9af5-ff9ac14c79ac"
      },
      "execution_count": null,
      "outputs": [
        {
          "output_type": "stream",
          "name": "stdout",
          "text": [
            "輸⼊年份:\n",
            "2200\n",
            "2200 是平年\n"
          ]
        }
      ]
    }
  ]
}