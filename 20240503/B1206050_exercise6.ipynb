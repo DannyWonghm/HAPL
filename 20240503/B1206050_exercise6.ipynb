{
  "nbformat": 4,
  "nbformat_minor": 0,
  "metadata": {
    "colab": {
      "provenance": []
    },
    "kernelspec": {
      "name": "python3",
      "display_name": "Python 3"
    },
    "language_info": {
      "name": "python"
    }
  },
  "cells": [
    {
      "cell_type": "code",
      "execution_count": 2,
      "metadata": {
        "colab": {
          "base_uri": "https://localhost:8080/"
        },
        "id": "2cR-k-Xakkgi",
        "outputId": "69818163-3c6e-47a4-ba4b-0a300df04403"
      },
      "outputs": [
        {
          "output_type": "stream",
          "name": "stdout",
          "text": [
            "請輸入聖誕樹的高度（至少7層）：10\n",
            "         *\n",
            "        ***\n",
            "       *****\n",
            "      *******\n",
            "     *********\n",
            "    ***********\n",
            "   *************\n",
            "  ***************\n",
            " *****************\n",
            "*******************\n",
            "        ***\n",
            "        ***\n",
            "        ***\n",
            "        ***\n",
            "        ***\n"
          ]
        }
      ],
      "source": [
        "def draw_christmas_tree(height):\n",
        "  if height < 7:\n",
        "    print(\"請輸入7層或以上的聖誕樹高度\")\n",
        "    return\n",
        "  for i in range(1, height + 1):\n",
        "    print(\" \" * (height - i) + \"*\" * (2 * i - 1))\n",
        "  for _ in range(5):\n",
        "    print(\" \" * (height - 2)+ \"***\")\n",
        "\n",
        "tree_height = int(input(\"請輸入聖誕樹的高度（至少7層）：\"))\n",
        "draw_christmas_tree(tree_height)\n"
      ]
    },
    {
      "cell_type": "code",
      "source": [
        "def BMI (kg,cm):\n",
        "  BMI = kg/(cm/100)**2\n",
        "  return BMI\n",
        "try:\n",
        "  kg = float(input(\"請輸入體重（公斤）：\"))\n",
        "  cm = float(input(\"請輸入身高（公分）：\"))\n",
        "  BMI=kg/(cm/100)**2\n",
        "  print(\"BMI=\",BMI)\n",
        "  if BMI<18.5:\n",
        "    print(\"體位：過輕\")\n",
        "  elif 18.5<=BMI<24:\n",
        "    print(\"體位：正常\")\n",
        "  elif 24<=BMI<27:\n",
        "    print(\"體位：過重\")\n",
        "  else:\n",
        "    print(\"體位：肥胖\")\n",
        "except ValueError:\n",
        "  print(\"輸入内容錯誤\")"
      ],
      "metadata": {
        "colab": {
          "base_uri": "https://localhost:8080/"
        },
        "id": "McEiDnL9nPkM",
        "outputId": "5831ab9f-b73e-459d-e01b-5085ef22325a"
      },
      "execution_count": 7,
      "outputs": [
        {
          "output_type": "stream",
          "name": "stdout",
          "text": [
            "請輸入體重（公斤）：65\n",
            "請輸入身高（公分）：178\n",
            "BMI= 20.515086478979924\n",
            "體位：正常\n"
          ]
        }
      ]
    },
    {
      "cell_type": "code",
      "source": [
        "def BMI (kg,cm):\n",
        "  BMI = kg/(cm/100)**2\n",
        "  return BMI\n",
        "try:\n",
        "  kg = float(input(\"請輸入體重（公斤）：\"))\n",
        "  cm = float(input(\"請輸入身高（公分）：\"))\n",
        "  BMI=kg/(cm/100)**2\n",
        "  print(\"BMI=\",BMI)\n",
        "  if BMI<18.5:\n",
        "    print(\"體位：過輕\")\n",
        "  elif 18.5<=BMI<24:\n",
        "    print(\"體位：正常\")\n",
        "  elif 24<=BMI<27:\n",
        "    print(\"體位：過重\")\n",
        "  else:\n",
        "    print(\"體位：肥胖\")\n",
        "except ValueError:\n",
        "  print(\"輸入内容錯誤\")"
      ],
      "metadata": {
        "colab": {
          "base_uri": "https://localhost:8080/"
        },
        "id": "1BVG4Veho9uu",
        "outputId": "d45c2e64-8968-4ce1-bfaa-a57457e8c8a3"
      },
      "execution_count": 10,
      "outputs": [
        {
          "output_type": "stream",
          "name": "stdout",
          "text": [
            "請輸入體重（公斤）：66\n",
            "請輸入身高（公分）：h\n",
            "輸入内容錯誤\n"
          ]
        }
      ]
    }
  ]
}