{
  "nbformat": 4,
  "nbformat_minor": 0,
  "metadata": {
    "colab": {
      "provenance": []
    },
    "kernelspec": {
      "name": "python3",
      "display_name": "Python 3"
    },
    "language_info": {
      "name": "python"
    }
  },
  "cells": [
    {
      "cell_type": "code",
      "execution_count": null,
      "metadata": {
        "colab": {
          "base_uri": "https://localhost:8080/"
        },
        "id": "7daVQu8lMd1g",
        "outputId": "ef1bd26a-62a3-4145-be7e-4cf514be9ff1"
      },
      "outputs": [
        {
          "output_type": "stream",
          "name": "stdout",
          "text": [
            "Ans.is =  220.0\n"
          ]
        }
      ],
      "source": [
        "x = 2\n",
        "y = 1\n",
        "x=2; y=1;\n",
        "a=5*x+y\n",
        "b=100/5\n",
        "z = a*b\n",
        "print(\"Ans.is = \", z)"
      ]
    },
    {
      "cell_type": "code",
      "source": [
        "x = 2\n",
        "y = 1\n",
        "a=2*x+y\n",
        "b=100-y\n",
        "z=a*b\n",
        "print(\"Ans.is = \", z)"
      ],
      "metadata": {
        "colab": {
          "base_uri": "https://localhost:8080/"
        },
        "id": "4RmgPfv0OaIm",
        "outputId": "e8e9b870-c4dd-49de-926b-7632e08af661"
      },
      "execution_count": null,
      "outputs": [
        {
          "output_type": "stream",
          "name": "stdout",
          "text": [
            "Ans.is =  495\n"
          ]
        }
      ]
    },
    {
      "cell_type": "code",
      "source": [
        "y = 4\n",
        "a=2*y+1\n",
        "z=100/a\n",
        "print(\"Ans.is = \", z)"
      ],
      "metadata": {
        "colab": {
          "base_uri": "https://localhost:8080/"
        },
        "id": "1n-7pgEqOm7N",
        "outputId": "61fd77e5-dde4-4f6d-fb9b-face3036b1a1"
      },
      "execution_count": null,
      "outputs": [
        {
          "output_type": "stream",
          "name": "stdout",
          "text": [
            "Ans.is =  11.11111111111111\n"
          ]
        }
      ]
    }
  ]
}